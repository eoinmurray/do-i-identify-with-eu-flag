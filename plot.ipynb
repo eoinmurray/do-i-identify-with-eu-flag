{
 "cells": [
  {
   "cell_type": "code",
   "execution_count": 3,
   "metadata": {},
   "outputs": [
    {
     "data": {
      "text/html": [
       "<script type=\"text/javascript\">window.PlotlyConfig = {MathJaxConfig: 'local'};</script><script type=\"text/javascript\">if (window.MathJax) {MathJax.Hub.Config({SVG: {font: \"STIX-Web\"}});}</script><script>requirejs.config({paths: { 'plotly': ['https://cdn.plot.ly/plotly-latest.min']},});if(!window._Plotly) {require(['plotly'],function(plotly) {window._Plotly=plotly;});}</script>"
      ],
      "text/vnd.plotly.v1+html": [
       "<script type=\"text/javascript\">window.PlotlyConfig = {MathJaxConfig: 'local'};</script><script type=\"text/javascript\">if (window.MathJax) {MathJax.Hub.Config({SVG: {font: \"STIX-Web\"}});}</script><script>requirejs.config({paths: { 'plotly': ['https://cdn.plot.ly/plotly-latest.min']},});if(!window._Plotly) {require(['plotly'],function(plotly) {window._Plotly=plotly;});}</script>"
      ]
     },
     "metadata": {},
     "output_type": "display_data"
    }
   ],
   "source": [
    "import pandas as pd\n",
    "import plotly\n",
    "import plotly.plotly as py\n",
    "import plotly.graph_objs as go\n",
    "from plotly.offline import download_plotlyjs, init_notebook_mode, plot, iplot\n",
    "\n",
    "plotly.offline.init_notebook_mode(connected=True)\n",
    "import plotly.io as pio\n",
    "import os"
   ]
  },
  {
   "cell_type": "code",
   "execution_count": 11,
   "metadata": {},
   "outputs": [],
   "source": [
    "def make_plot(locations, z):\n",
    "    data = [go.Choropleth(\n",
    "        locations = locations,\n",
    "        z = z,\n",
    "        text = locations,\n",
    "        locationmode=\"ISO-3\",\n",
    "        autocolorscale = True,\n",
    "        colorbar = go.choropleth.ColorBar(\n",
    "            ticksuffix = '%',\n",
    "            title = '% identify',\n",
    "            len=0.5,\n",
    "        ),\n",
    "    )]\n",
    "\n",
    "    layout = {\n",
    "        \"height\": 800,\n",
    "        \"margin\": {\n",
    "#             \"autoexpand\": False,\n",
    "            \"t\": 0,\n",
    "            \"b\": 0,\n",
    "            \"l\": 0,\n",
    "#             \"r\": 0,\n",
    "        },\n",
    "        \"geo\": {\n",
    "            \"domain\": {\n",
    "                \"x\": [0, 1], \n",
    "                \"y\": [0, 1]\n",
    "            }, \n",
    "            \"landcolor\": \"rgb(229, 229, 229)\", \n",
    "            \"lataxis\": {\"range\": [37.0, 65.0]}, \n",
    "            \"lonaxis\": {\"range\": [-12.0, 30.0]}, \n",
    "            \"projection\": {\"type\": \"mercator\"}, \n",
    "            \"resolution\": 50, \n",
    "            \"scope\": \"europe\", \n",
    "            \"showcoastlines\": True, \n",
    "            \"showframe\": True, \n",
    "            \"showland\": True\n",
    "        }, \n",
    "        \"legend\": {\"traceorder\": \"reversed\"}, \n",
    "    }\n",
    "\n",
    "    fig = go.Figure(data = data, layout = layout)\n",
    "    iplot(fig)"
   ]
  },
  {
   "cell_type": "code",
   "execution_count": null,
   "metadata": {},
   "outputs": [],
   "source": []
  }
 ],
 "metadata": {
  "kernelspec": {
   "display_name": "Python 3",
   "language": "python",
   "name": "python3"
  },
  "language_info": {
   "codemirror_mode": {
    "name": "ipython",
    "version": 3
   },
   "file_extension": ".py",
   "mimetype": "text/x-python",
   "name": "python",
   "nbconvert_exporter": "python",
   "pygments_lexer": "ipython3",
   "version": "3.6.8"
  }
 },
 "nbformat": 4,
 "nbformat_minor": 2
}
